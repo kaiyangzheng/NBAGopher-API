{
 "cells": [
  {
   "cell_type": "code",
   "execution_count": 4,
   "metadata": {},
   "outputs": [],
   "source": [
    "import pandas as pd\n",
    "import numpy as np\n",
    "\n",
    "mvp_data = pd.read_csv('nba_mvp_data.csv')"
   ]
  },
  {
   "cell_type": "code",
   "execution_count": 92,
   "metadata": {},
   "outputs": [
    {
     "name": "stdout",
     "output_type": "stream",
     "text": [
      "[[34.6, 26.4, 10.8, 8.3, 1.3, 0.7, 0.566, 0.388, 0.868, 15.6, 0.301, 0.652777778], [31.1, 28.5, 10.6, 2.8, 1.0, 1.4, 0.513, 0.377, 0.859, 8.8, 0.266, 0.680555556], [34.2, 32.0, 5.5, 5.8, 1.2, 0.1, 0.482, 0.421, 0.916, 9.0, 0.201, 0.541666667], [30.4, 29.5, 13.6, 5.6, 1.0, 1.0, 0.553, 0.304, 0.633, 11.1, 0.279, 0.767123288], [34.6, 25.3, 7.8, 10.2, 1.2, 0.5, 0.493, 0.348, 0.693, 9.8, 0.204, 0.732394366], [36.5, 34.3, 6.6, 7.5, 1.8, 0.9, 0.444, 0.355, 0.865, 13.1, 0.254, 0.611111111], [32.8, 27.7, 12.5, 5.9, 1.3, 1.5, 0.578, 0.256, 0.729, 14.4, 0.292, 0.731707317], [36.8, 36.1, 6.6, 7.5, 2.0, 0.7, 0.442, 0.368, 0.879, 15.2, 0.254, 0.646341463], [36.9, 28.0, 8.2, 4.1, 2.2, 0.4, 0.438, 0.386, 0.839, 11.9, 0.201, 0.597560976], [35.4, 30.4, 5.4, 8.8, 1.8, 0.7, 0.449, 0.367, 0.858, 15.4, 0.289, 0.792682927], [36.9, 27.5, 8.6, 9.1, 1.4, 0.9, 0.542, 0.367, 0.731, 14.0, 0.221, 0.609756098], [36.4, 28.1, 11.1, 2.3, 1.5, 2.6, 0.534, 0.34, 0.828, 13.7, 0.241, 0.585365854], [34.6, 31.6, 10.7, 10.4, 1.6, 0.4, 0.425, 0.343, 0.845, 13.1, 0.224, 0.573170732], [36.4, 29.1, 8.1, 11.2, 1.5, 0.5, 0.44, 0.347, 0.847, 15.0, 0.245, 0.670731707], [33.4, 25.5, 5.8, 3.5, 1.8, 0.7, 0.485, 0.38, 0.88, 13.6, 0.264, 0.743902439], [34.2, 30.1, 5.4, 6.7, 2.1, 0.2, 0.504, 0.454, 0.908, 17.9, 0.318, 0.890243902], [33.1, 21.2, 6.8, 2.6, 1.8, 1.0, 0.506, 0.443, 0.874, 13.7, 0.277, 0.817073171], [35.6, 25.3, 7.4, 6.8, 1.4, 0.6, 0.52, 0.309, 0.731, 13.6, 0.242, 0.695121951], [32.7, 23.8, 4.3, 7.7, 2.0, 0.2, 0.487, 0.443, 0.914, 15.7, 0.288, 0.817073171], [36.8, 27.4, 5.7, 7.0, 1.9, 0.7, 0.44, 0.375, 0.868, 16.4, 0.265, 0.682926829], [36.1, 25.3, 6.0, 7.4, 1.6, 0.7, 0.488, 0.354, 0.71, 10.4, 0.199, 0.646341463], [38.5, 32.0, 7.4, 5.5, 1.3, 0.7, 0.503, 0.391, 0.873, 19.2, 0.295, 0.719512195], [37.7, 27.1, 6.9, 6.3, 1.6, 0.3, 0.567, 0.379, 0.75, 15.9, 0.264, 0.658536585], [35.8, 24.1, 9.5, 3.9, 1.2, 0.6, 0.528, 0.273, 0.715, 12.2, 0.205, 0.695121951], [37.9, 26.8, 8.0, 7.3, 1.7, 0.9, 0.565, 0.406, 0.753, 19.3, 0.322, 0.804878049], [38.5, 28.1, 7.9, 4.6, 1.4, 1.3, 0.51, 0.416, 0.905, 18.9, 0.291, 0.731707317], [37.0, 28.7, 6.9, 2.6, 0.8, 0.5, 0.449, 0.379, 0.83, 9.5, 0.184, 0.658536585], [37.5, 27.1, 7.9, 6.2, 1.9, 0.8, 0.531, 0.362, 0.771, 14.5, 0.298, 0.696969697], [38.6, 28.0, 8.0, 3.5, 1.3, 1.2, 0.496, 0.387, 0.86, 12.2, 0.23, 0.712121212], [36.4, 19.8, 3.6, 9.1, 2.5, 0.1, 0.478, 0.371, 0.861, 12.7, 0.278, 0.606060606], [37.4, 25.0, 4.1, 7.7, 1.0, 0.6, 0.445, 0.332, 0.858, 13.1, 0.208, 0.756097561], [37.6, 22.9, 14.1, 1.4, 1.4, 2.4, 0.593, 0.0, 0.596, 14.4, 0.235, 0.634146341], [38.8, 26.7, 7.5, 7.0, 1.6, 0.6, 0.51, 0.33, 0.759, 15.6, 0.244, 0.707317073], [39.0, 29.7, 7.3, 8.6, 1.6, 1.0, 0.503, 0.333, 0.767, 18.5, 0.299, 0.743902439], [39.5, 30.1, 7.6, 2.8, 1.4, 1.0, 0.476, 0.365, 0.9, 16.1, 0.238, 0.609756098], [38.8, 27.0, 5.4, 5.0, 1.5, 0.3, 0.456, 0.329, 0.811, 9.4, 0.16, 0.695121951], [37.7, 28.4, 7.6, 7.2, 1.7, 1.1, 0.489, 0.344, 0.78, 20.3, 0.318, 0.804878049], [36.1, 26.8, 5.2, 4.9, 1.5, 0.5, 0.467, 0.351, 0.856, 12.7, 0.206, 0.792682927], [38.6, 30.2, 5.0, 7.5, 2.2, 1.3, 0.491, 0.317, 0.765, 14.7, 0.232, 0.524390244], [38.9, 28.3, 6.3, 5.4, 1.8, 0.5, 0.459, 0.361, 0.84, 13.8, 0.208, 0.695121951], [37.6, 21.1, 4.0, 11.6, 2.7, 0.1, 0.488, 0.369, 0.851, 17.8, 0.284, 0.682926829], [32.8, 18.8, 9.2, 3.4, 1.4, 1.3, 0.539, 0.0, 0.801, 12.9, 0.265, 0.804878049], [36.2, 24.6, 8.9, 3.4, 0.7, 0.8, 0.502, 0.416, 0.904, 16.3, 0.278, 0.817073171], [35.3, 18.6, 3.5, 11.6, 0.8, 0.1, 0.532, 0.455, 0.899, 12.6, 0.225, 0.743902439], [40.8, 31.6, 5.7, 5.4, 1.4, 0.5, 0.463, 0.344, 0.868, 13.0, 0.199, 0.512195122], [35.4, 18.8, 4.2, 10.5, 0.8, 0.2, 0.512, 0.439, 0.921, 12.4, 0.212, 0.658536585], [42.5, 31.4, 7.0, 6.6, 1.6, 0.8, 0.48, 0.335, 0.738, 16.3, 0.232, 0.609756098], [38.1, 26.6, 9.0, 2.8, 0.7, 1.0, 0.48, 0.406, 0.901, 17.7, 0.275, 0.731707317], [34.3, 15.5, 3.3, 11.5, 1.0, 0.1, 0.502, 0.431, 0.887, 10.9, 0.203, 0.756097561], [34.1, 22.9, 10.4, 2.7, 0.5, 2.3, 0.601, nan, 0.461, 11.0, 0.211, 0.719512195], [38.7, 26.1, 9.7, 3.1, 1.2, 1.5, 0.459, 0.399, 0.869, 15.6, 0.248, 0.707317073], [39.4, 24.2, 13.9, 5.0, 1.5, 2.2, 0.499, 0.256, 0.791, 18.3, 0.272, 0.707317073], [36.6, 22.3, 12.4, 3.1, 0.9, 2.7, 0.501, 0.167, 0.599, 13.1, 0.249, 0.695121951], [35.7, 20.1, 10.0, 2.1, 0.8, 2.6, 0.434, 0.111, 0.757, 9.0, 0.155, 0.743902439], [39.3, 23.3, 12.9, 3.9, 0.7, 2.9, 0.513, 0.273, 0.71, 16.5, 0.248, 0.731707317], [40.5, 23.0, 13.4, 6.0, 1.4, 1.6, 0.502, 0.282, 0.751, 15.6, 0.225, 0.62195122], [41.5, 30.0, 6.9, 5.9, 2.2, 0.8, 0.451, 0.383, 0.843, 14.9, 0.21, 0.609756098], [40.6, 25.5, 12.7, 3.7, 0.7, 2.5, 0.508, 0.1, 0.799, 17.8, 0.257, 0.707317073], [37.3, 14.7, 7.3, 9.9, 2.1, 0.2, 0.391, 0.321, 0.814, 8.9, 0.14, 0.634146341], [36.1, 27.2, 10.7, 3.0, 0.6, 2.0, 0.579, 0.0, 0.555, 13.2, 0.262, 0.707317073], [42.0, 31.1, 3.8, 4.6, 2.5, 0.3, 0.42, 0.32, 0.814, 11.8, 0.19, 0.682926829], [38.7, 22.2, 12.2, 3.0, 0.9, 2.3, 0.499, 0.259, 0.618, 13.2, 0.2, 0.707317073], [39.5, 28.7, 12.7, 3.7, 0.6, 2.8, 0.572, 0.0, 0.513, 14.9, 0.245, 0.682926829]]\n"
     ]
    },
    {
     "name": "stderr",
     "output_type": "stream",
     "text": [
      "C:\\Users\\kaiya\\AppData\\Local\\Temp\\ipykernel_22704\\3392813972.py:9: DeprecationWarning: `np.float` is a deprecated alias for the builtin `float`. To silence this warning, use `float` by itself. Doing this will not modify any behavior and is safe. If you specifically wanted the numpy scalar type, use `np.float64` here.\n",
      "Deprecated in NumPy 1.20; for more details and guidance: https://numpy.org/devdocs/release/1.20.0-notes.html#deprecations\n",
      "  mvp_stats.append(np.array([row['min_avg'], row['pts_avg'], row['rb_avg'], row['ast_avg'], row['stl_avg'], row['blk_avg'], row['fg_perc'], row['3pt_perc'], row['ft_perc'], row['ws'], row['ws_48'], row['win_perc']]).astype(np.float).tolist())\n"
     ]
    }
   ],
   "source": [
    "year = \"\"\n",
    "mvp_place = 1\n",
    "mvp_stats = []\n",
    "for index, row in mvp_data.iterrows():\n",
    "    if row['year'] != year:\n",
    "        mvp_place = 1\n",
    "        year = row['year']\n",
    "    if mvp_place <= 3:\n",
    "        mvp_stats.append(np.array([row['min_avg'], row['pts_avg'], row['rb_avg'], row['ast_avg'], row['stl_avg'], row['blk_avg'], row['fg_perc'], row['3pt_perc'], row['ft_perc'], row['ws'], row['ws_48'], row['win_perc']]).astype(np.float).tolist())\n",
    "    mvp_place += 1\n",
    "\n",
    "\n",
    "print(mvp_stats)\n",
    "        "
   ]
  },
  {
   "cell_type": "code",
   "execution_count": 132,
   "metadata": {},
   "outputs": [
    {
     "name": "stdout",
     "output_type": "stream",
     "text": [
      "common player stats: [[30, 266.0, 25.0, 76.0, 9.0, 1.0, 0.488, 0.286, 0.759, 0.7, 0.07, 0.3], [30, 111.0, 59.0, 22.0, 14.0, 13.0, 0.387, 0.4, 0.583, -0.4, -0.049, 0.3], [30, 1663.0, 735.0, 250.0, 90.0, 77.0, 0.472, 0.188, 0.834, 8.5, 0.126, 0.3], [30, 52.0, 25.0, 36.0, 16.0, 0.0, 0.321, 0.25, 0.667, -0.1, -0.031, 0.3], [30, 618.0, 143.0, 62.0, 45.0, 5.0, 0.417, 0.37, 0.82, 0.8, 0.027, 0.3], [30, 160.0, 63.0, 21.0, 16.0, 3.0, 0.348, 0.3, 0.733, -0.1, -0.013, 0.3], [30, 458.0, 80.0, 41.0, 29.0, 2.0, 0.448, 0.389, 0.857, 0.9, 0.048, 0.3], [30, 77.0, 31.0, 68.0, 13.0, 0.0, 0.357, 0.267, 0.692, 0.3, 0.055, 0.3], [30, 650.0, 268.0, 74.0, 28.0, 29.0, 0.4, 0.0, 0.631, 0.0, 0.001, 0.3], [30, 1269.0, 363.0, 301.0, 120.0, 14.0, 0.416, 0.399, 0.851, 9.9, 0.166, 0.3]]\n"
     ]
    }
   ],
   "source": [
    "mvp_players = mvp_data['player'].tolist()\n",
    "\n",
    "common_player_data = pd.read_csv('Seasons_Stats.csv')\n",
    "common_player_stats = []\n",
    "for index, row in common_player_data.iterrows():\n",
    "    if row['Year'] >= 2001 and row['Player'] not in mvp_players:\n",
    "        common_player_stats.append([30, row['PTS'], row['TRB'], row['AST'], row['STL'], row['BLK'], row['FG%'], row['3P%'], row['FT%'], row['WS'], row['WS/48'], 0.30])\n",
    "\n",
    "print(\"common player stats:\", common_player_stats[0:10])"
   ]
  },
  {
   "cell_type": "code",
   "execution_count": 135,
   "metadata": {},
   "outputs": [],
   "source": [
    "x_data = []\n",
    "y_data = []\n",
    "\n",
    "for i in range(len(common_player_stats)):\n",
    "    x_data.append(common_player_stats[i])\n",
    "    y_data.append(0)\n",
    "\n",
    "\n",
    "for i in range(len(mvp_stats)):\n",
    "    x_data.append(mvp_stats[i])\n",
    "    y_data.append(1)\n",
    "\n",
    "x_data = np.array(x_data)\n",
    "y_data = np.array(y_data)\n",
    "\n",
    "x_data[np.isnan(x_data)] = 0\n",
    "y_data[np.isnan(y_data)] = 0\n"
   ]
  },
  {
   "cell_type": "code",
   "execution_count": 136,
   "metadata": {},
   "outputs": [],
   "source": [
    "from sklearn.model_selection import train_test_split\n",
    "x_train, x_test, y_train, y_test = train_test_split(\n",
    "    x_data, y_data, test_size=0.25, random_state=0)\n"
   ]
  },
  {
   "cell_type": "code",
   "execution_count": 137,
   "metadata": {},
   "outputs": [
    {
     "name": "stderr",
     "output_type": "stream",
     "text": [
      "C:\\Users\\kaiya\\AppData\\Local\\Programs\\Python\\Python310\\lib\\site-packages\\sklearn\\linear_model\\_logistic.py:814: ConvergenceWarning: lbfgs failed to converge (status=1):\n",
      "STOP: TOTAL NO. of ITERATIONS REACHED LIMIT.\n",
      "\n",
      "Increase the number of iterations (max_iter) or scale the data as shown in:\n",
      "    https://scikit-learn.org/stable/modules/preprocessing.html\n",
      "Please also refer to the documentation for alternative solver options:\n",
      "    https://scikit-learn.org/stable/modules/linear_model.html#logistic-regression\n",
      "  n_iter_i = _check_optimize_result(\n"
     ]
    },
    {
     "data": {
      "text/plain": [
       "LogisticRegression()"
      ]
     },
     "execution_count": 137,
     "metadata": {},
     "output_type": "execute_result"
    }
   ],
   "source": [
    "from sklearn.linear_model import LogisticRegression\n",
    "\n",
    "logisticRegr = LogisticRegression()\n",
    "logisticRegr.fit(x_train, y_train)\n"
   ]
  },
  {
   "cell_type": "code",
   "execution_count": 138,
   "metadata": {},
   "outputs": [
    {
     "data": {
      "text/plain": [
       "array([0])"
      ]
     },
     "execution_count": 138,
     "metadata": {},
     "output_type": "execute_result"
    }
   ],
   "source": [
    "logisticRegr.predict(x_test[0].reshape(1,-1))"
   ]
  },
  {
   "cell_type": "code",
   "execution_count": 139,
   "metadata": {},
   "outputs": [
    {
     "name": "stdout",
     "output_type": "stream",
     "text": [
      "[0 0 0 ... 0 0 0]\n",
      "1.0\n"
     ]
    }
   ],
   "source": [
    "predictions = logisticRegr.predict(x_test)\n",
    "print(predictions)\n",
    "score = logisticRegr.score(x_test, y_test)\n",
    "print(score)\n"
   ]
  },
  {
   "cell_type": "code",
   "execution_count": 140,
   "metadata": {},
   "outputs": [
    {
     "name": "stdout",
     "output_type": "stream",
     "text": [
      "[[2209    0]\n",
      " [   0   19]]\n"
     ]
    }
   ],
   "source": [
    "import matplotlib.pyplot as plt\n",
    "import seaborn as sns\n",
    "from sklearn import metrics\n",
    "\n",
    "cm = metrics.confusion_matrix(y_test, predictions)\n",
    "print(cm)\n"
   ]
  },
  {
   "cell_type": "code",
   "execution_count": 141,
   "metadata": {},
   "outputs": [
    {
     "data": {
      "text/plain": [
       "Text(0.5, 1.0, 'Accuracy Score: 1.0')"
      ]
     },
     "execution_count": 141,
     "metadata": {},
     "output_type": "execute_result"
    },
    {
     "data": {
      "image/png": "[encoded data removed]",
      "text/plain": [
       "<Figure size 648x648 with 2 Axes>"
      ]
     },
     "metadata": {
      "needs_background": "light"
     },
     "output_type": "display_data"
    }
   ],
   "source": [
    "plt.figure(figsize=(9, 9))\n",
    "sns.heatmap(cm, annot=True, fmt=\".3f\", linewidths=.5,\n",
    "            square=True, cmap='Blues_r')\n",
    "plt.ylabel('Actual label')\n",
    "plt.xlabel('Predicted label')\n",
    "all_sample_title = 'Accuracy Score: {0}'.format(score)\n",
    "plt.title(all_sample_title, size=15)\n"
   ]
  },
  {
   "cell_type": "code",
   "execution_count": 143,
   "metadata": {},
   "outputs": [
    {
     "name": "stdout",
     "output_type": "stream",
     "text": [
      "[1]\n",
      "[[3.26604407e-05 9.99967340e-01]]\n",
      "[0]\n",
      "[[0.82863429 0.17136571]]\n",
      "[1]\n",
      "[[0.06713707 0.93286293]]\n",
      "[1]\n",
      "[[0.04823174 0.95176826]]\n"
     ]
    }
   ],
   "source": [
    "#Jokic\n",
    "\n",
    "from bs4 import BeautifulSouphtml_text = urlopen(https: // www.basketball-reference.com/leagues/NBA_2022_per_game.html').\n",
    "from bs4 import BeautifulSoup\n",
    "from urllib.request import urlopen\n",
    "prediction = logisticRegr.predict([[33.3, 26.8, 13.7, 8.0, 1.4, 0.9, 0.583, 0.339, 0.811, 15.0, 0.299, 0.59]])\n",
    "print(prediction)\n",
    "predict_proba = logisticRegr.predict_proba(\n",
    "    [[33.3, 26.8, 13.7, 8.0, 1.4, 0.9, 0.583, 0.339, 0.811, 15.0, 0.299, 0.59]])\n",
    "print(predict_proba)\n",
    "\n",
    "\n",
    "#Poole \n",
    "\n",
    "prediction = logisticRegr.predict(\n",
    "    [[30.0, 18.4, 3.4, 3.8, 0.8, 0.3, 0.453, 0.368, 0.920, 5.8, 0.127, 0.63]])\n",
    "print(prediction)\n",
    "predict_proba = logisticRegr.predict_proba([[30.0, 18.4, 3.4, 3.8, 0.8, 0.3, 0.453, 0.368, 0.920, 5.8, 0.127, 0.63]])\n",
    "print(predict_proba)\n",
    "\n",
    "# Curry\n",
    "\n",
    "prediction = logisticRegr.predict(\n",
    "    [[34.5, 25.5, 5.2, 6.3, 1.3, 0.4, 0.437, 0.380, 0.923, 8.0, 0.174, 0.63]])\n",
    "print(prediction)\n",
    "predict_proba = logisticRegr.predict_proba(\n",
    "    [[34.5, 25.5, 5.2, 6.3, 1.3, 0.4, 0.437, 0.380, 0.923, 8.0, 0.174, 0.63]])\n",
    "print(predict_proba)\n",
    "\n",
    "#James\n",
    "\n",
    "prediction = logisticRegr.predict(\n",
    "    [[37.2, 30.3, 8.2, 6.2, 1.3, 1.1, 0.524, 0.359, 0.756, 7.6, 0.174, 0.38]])\n",
    "print(prediction)\n",
    "predict_proba = logisticRegr.predict_proba(\n",
    "    [[37.2, 30.3, 8.2, 6.2, 1.3, 1.1, 0.524, 0.359, 0.756, 7.6, 0.174, 0.38]])\n",
    "print(predict_proba)\n"
   ]
  },
  {
   "cell_type": "code",
   "execution_count": null,
   "metadata": {},
   "outputs": [],
   "source": [
    "import pickle\n",
    "pickle.dump(logisticRegr, open('model.pkl', 'wb'))"
   ]
  }
 ],
 "metadata": {
  "interpreter": {
   "hash": "3eb7db761f0dc1c2ae7f821e06daae0904c4dc81f69d666cb3f2765002d026c7"
  },
  "kernelspec": {
   "display_name": "Python 3.10.2 64-bit",
   "language": "python",
   "name": "python3"
  },
  "language_info": {
   "codemirror_mode": {
    "name": "ipython",
    "version": 3
   },
   "file_extension": ".py",
   "mimetype": "text/x-python",
   "name": "python",
   "nbconvert_exporter": "python",
   "pygments_lexer": "ipython3",
   "version": "3.10.2"
  },
  "orig_nbformat": 4
 },
 "nbformat": 4,
 "nbformat_minor": 2
}
